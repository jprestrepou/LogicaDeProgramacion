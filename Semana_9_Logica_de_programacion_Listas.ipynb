{
  "nbformat": 4,
  "nbformat_minor": 0,
  "metadata": {
    "colab": {
      "provenance": []
    },
    "kernelspec": {
      "name": "python3",
      "display_name": "Python 3"
    },
    "language_info": {
      "name": "python"
    }
  },
  "cells": [
    {
      "cell_type": "markdown",
      "source": [
        "# **Listas**"
      ],
      "metadata": {
        "id": "yJSvSJ_bjMID"
      }
    },
    {
      "cell_type": "code",
      "execution_count": 7,
      "metadata": {
        "id": "jlzFVi0zh4LC"
      },
      "outputs": [],
      "source": [
        "mi_lista = [1, 2, 3, 4, 5]"
      ]
    },
    {
      "cell_type": "markdown",
      "source": [
        "# **Añadir elementos**"
      ],
      "metadata": {
        "id": "zLlxM0UhjQak"
      }
    },
    {
      "cell_type": "code",
      "source": [
        "mi_lista.append(6)\n",
        "mi_lista.extend([7, 8, 9])"
      ],
      "metadata": {
        "id": "_IDJrBIQjJaN"
      },
      "execution_count": 3,
      "outputs": []
    },
    {
      "cell_type": "markdown",
      "source": [
        "# **Eliminar elementos**"
      ],
      "metadata": {
        "id": "bRU4qLBfjZPw"
      }
    },
    {
      "cell_type": "code",
      "source": [
        "mi_lista.pop(2)"
      ],
      "metadata": {
        "colab": {
          "base_uri": "https://localhost:8080/"
        },
        "id": "sckQVv9IjKQv",
        "outputId": "d2d7002a-a0e2-48fb-c891-c4e1408de459"
      },
      "execution_count": 8,
      "outputs": [
        {
          "output_type": "execute_result",
          "data": {
            "text/plain": [
              "3"
            ]
          },
          "metadata": {},
          "execution_count": 8
        }
      ]
    },
    {
      "cell_type": "markdown",
      "source": [
        "# **Acceso a elementos**"
      ],
      "metadata": {
        "id": "xYY9vECZjmjf"
      }
    },
    {
      "cell_type": "code",
      "source": [
        "primer_elemento = mi_lista[0]\n",
        "sub_lista = mi_lista[2:5]"
      ],
      "metadata": {
        "id": "ht9yfMBwjpHL"
      },
      "execution_count": 10,
      "outputs": []
    },
    {
      "cell_type": "markdown",
      "source": [
        "# **Ordenar y Reversar**"
      ],
      "metadata": {
        "id": "4Hz8vFJxjqsM"
      }
    },
    {
      "cell_type": "code",
      "source": [
        "mi_lista.sort()\n",
        "mi_lista.reverse()"
      ],
      "metadata": {
        "id": "8iztrkAsjs1E"
      },
      "execution_count": 11,
      "outputs": []
    },
    {
      "cell_type": "markdown",
      "source": [
        "# **Búsqueda**"
      ],
      "metadata": {
        "id": "FDs2Ep1LjupF"
      }
    },
    {
      "cell_type": "code",
      "source": [
        "indice_del_dos = mi_lista.index(2)"
      ],
      "metadata": {
        "id": "vq-bLx4sjxXl"
      },
      "execution_count": 12,
      "outputs": []
    },
    {
      "cell_type": "markdown",
      "source": [
        "# **Tamaño y conteo**"
      ],
      "metadata": {
        "id": "7nzkS8MXj0az"
      }
    },
    {
      "cell_type": "code",
      "source": [
        "longitud = len(mi_lista)\n",
        "conteo_de_cuatro = mi_lista.count(4)"
      ],
      "metadata": {
        "id": "b576rHvvj2rE"
      },
      "execution_count": 13,
      "outputs": []
    },
    {
      "cell_type": "markdown",
      "source": [],
      "metadata": {
        "id": "KIFc9zG-j4xu"
      }
    }
  ]
}