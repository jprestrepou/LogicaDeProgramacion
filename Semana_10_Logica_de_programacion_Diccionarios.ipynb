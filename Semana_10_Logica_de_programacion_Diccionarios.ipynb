{
  "cells": [
    {
      "cell_type": "code",
      "execution_count": 2,
      "metadata": {
        "id": "pzo0HfzASDH7"
      },
      "outputs": [],
      "source": [
        "mi_diccionario = {}\n",
        "mi_diccionario = {\"clave1\": 0, \"clave2\": 0}"
      ]
    },
    {
      "cell_type": "code",
      "execution_count": 3,
      "metadata": {
        "colab": {
          "base_uri": "https://localhost:8080/"
        },
        "id": "F-fzA47cScq2",
        "outputId": "9a983fc8-05f6-46f5-946d-d76bc35e4572"
      },
      "outputs": [
        {
          "name": "stdout",
          "output_type": "stream",
          "text": [
            "0\n"
          ]
        }
      ],
      "source": [
        "print(mi_diccionario[\"clave1\"])"
      ]
    },
    {
      "cell_type": "code",
      "execution_count": 4,
      "metadata": {
        "id": "Iz5re3wFSgQR"
      },
      "outputs": [],
      "source": [
        "mi_diccionario[\"nueva_clave\"] = 2\n",
        "mi_diccionario[\"clave1\"] = 5"
      ]
    },
    {
      "cell_type": "code",
      "execution_count": 6,
      "metadata": {
        "colab": {
          "base_uri": "https://localhost:8080/"
        },
        "id": "6PtLmhswSoPN",
        "outputId": "6e408edd-5846-4f94-834e-17f1588f29f0"
      },
      "outputs": [
        {
          "name": "stdout",
          "output_type": "stream",
          "text": [
            "{'clave1': 5, 'clave2': 0, 'nueva_clave': 2}\n"
          ]
        }
      ],
      "source": [
        "print(mi_diccionario)"
      ]
    },
    {
      "cell_type": "code",
      "execution_count": 7,
      "metadata": {
        "id": "im0P8pxFSyGR"
      },
      "outputs": [],
      "source": [
        "del mi_diccionario[\"clave1\"]"
      ]
    },
    {
      "cell_type": "code",
      "execution_count": 8,
      "metadata": {
        "colab": {
          "base_uri": "https://localhost:8080/"
        },
        "id": "PZbDb7KuS7t-",
        "outputId": "f215e363-7e55-4faa-be2a-876c5e6f2a88"
      },
      "outputs": [
        {
          "name": "stdout",
          "output_type": "stream",
          "text": [
            "clave2 0\n",
            "nueva_clave 2\n",
            "clave2 0\n",
            "nueva_clave 2\n"
          ]
        }
      ],
      "source": [
        "for clave in mi_diccionario:\n",
        "    print(clave, mi_diccionario[clave])\n",
        "\n",
        "for clave, valor in mi_diccionario.items():\n",
        "    print(clave, valor)\n"
      ]
    },
    {
      "cell_type": "code",
      "execution_count": 9,
      "metadata": {
        "colab": {
          "base_uri": "https://localhost:8080/"
        },
        "id": "s9addZExTDn4",
        "outputId": "6a02ad2c-808a-48b2-d7d9-33e5a705e921"
      },
      "outputs": [
        {
          "name": "stdout",
          "output_type": "stream",
          "text": [
            "La clave no existe en el diccionario\n"
          ]
        }
      ],
      "source": [
        "if \"clave\" in mi_diccionario:\n",
        "    print(\"La clave existe en el diccionario\")\n",
        "else:\n",
        "    print(\"La clave no existe en el diccionario\")\n"
      ]
    },
    {
      "cell_type": "code",
      "execution_count": 11,
      "metadata": {
        "colab": {
          "base_uri": "https://localhost:8080/"
        },
        "id": "d6c_PXkoTI4a",
        "outputId": "cfca0e5b-59f1-423f-ad69-0a99d8e1f96b"
      },
      "outputs": [
        {
          "name": "stdout",
          "output_type": "stream",
          "text": [
            "El diccionario tiene 2 elementos\n"
          ]
        }
      ],
      "source": [
        "longitud = len(mi_diccionario)\n",
        "print(\"El diccionario tiene\", longitud, \"elementos\")"
      ]
    },
    {
      "cell_type": "code",
      "execution_count": 12,
      "metadata": {
        "id": "k5hLj5T3TLsb"
      },
      "outputs": [],
      "source": [
        "copia_superficial = mi_diccionario.copy()\n",
        "\n",
        "import copy\n",
        "copia_profunda = copy.deepcopy(mi_diccionario)\n",
        "\n",
        "nueva_referencia = mi_diccionario\n"
      ]
    },
    {
      "cell_type": "code",
      "execution_count": 13,
      "metadata": {
        "colab": {
          "base_uri": "https://localhost:8080/"
        },
        "id": "MAmC42lRTREf",
        "outputId": "6eeaf77f-37d1-44bc-bf7f-f83f02dd5840"
      },
      "outputs": [
        {
          "name": "stdout",
          "output_type": "stream",
          "text": [
            "{'a': 1, 'b': 3, 'c': 4}\n",
            "{'a': 1, 'b': 3, 'c': 4}\n"
          ]
        }
      ],
      "source": [
        "diccionario1 = {\"a\": 1, \"b\": 2}\n",
        "diccionario2 = {\"b\": 3, \"c\": 4}\n",
        "diccionario1.update(diccionario2)\n",
        "print(diccionario1)\n",
        "\n",
        "diccionario1 = {\"a\": 1, \"b\": 2}\n",
        "diccionario2 = {\"b\": 3, \"c\": 4}\n",
        "resultado = diccionario1 | diccionario2\n",
        "print(resultado)  # Resultado: {'a': 1, 'b': 3, 'c': 4}"
      ]
    },
    {
      "cell_type": "code",
      "execution_count": null,
      "metadata": {},
      "outputs": [],
      "source": [
        "base_de_datos_productos = {\n",
        "    \"001\": {\"nombre\":\"Producto 1\",\"precio\": 10.99,\"cantidad\": 50},\n",
        "   \"002\": {\"nombre\":\"Producto 2\",\"precio\": 5.99,\"cantidad\": 100},\n",
        "   \"003\": {\"nombre\":\"Producto 3\",\"precio\": 20.49,\"cantidad\": 25},\n",
        "   \"004\": {\"nombre\":\"Producto 4\",\"precio\": 15.99,\"cantidad\": 75},\n",
        "   \"005\": {\"nombre\":\"Producto 5\",\"precio\": 7.99,\"cantidad\": 60},\n",
        "   \"006\": {\"nombre\":\"Producto 6\",\"precio\": 12.99,\"cantidad\": 40},\n",
        "   \"007\": {\"nombre\":\"Producto 7\",\"precio\": 6.49,\"cantidad\": 90},\n",
        "   \"008\": {\"nombre\":\"Producto 8\",\"precio\": 25.99,\"cantidad\": 30},\n",
        "   \"009\": {\"nombre\":\"Producto 9\",\"precio\": 8.99,\"cantidad\": 70},\n",
        "   \"010\": {\"nombre\":\"Producto 10\",\"precio\": 14.99,\"cantidad\": 55},\n",
        "   \"011\": {\"nombre\":\"Producto 11\",\"precio\": 9.99,\"cantidad\": 45},\n",
        "   \"012\": {\"nombre\":\"Producto 12\",\"precio\": 18.99,\"cantidad\": 35},\n",
        "   \"013\": {\"nombre\":\"Producto 13\",\"precio\": 11.99,\"cantidad\": 80},\n",
        "   \"014\": {\"nombre\":\"Producto 14\",\"precio\": 13.99,\"cantidad\": 70},\n",
        "   \"015\": {\"nombre\":\"Producto 15\",\"precio\": 16.99,\"cantidad\": 60}\n",
        "}"
      ]
    },
    {
      "cell_type": "code",
      "execution_count": null,
      "metadata": {},
      "outputs": [],
      "source": [
        "base_de_datos_productos[\"015\"][\"cantidad\"]\n",
        "base_de_datos_productos[\"015\"][\"cantidad\"]\n",
        "base_de_datos_productos[\"015\"][\"cantidad\"]\n",
        "base_de_datos_productos[\"015\"][\"cantidad\"]"
      ]
    }
  ],
  "metadata": {
    "colab": {
      "provenance": []
    },
    "kernelspec": {
      "display_name": "Python 3",
      "name": "python3"
    },
    "language_info": {
      "name": "python"
    }
  },
  "nbformat": 4,
  "nbformat_minor": 0
}
