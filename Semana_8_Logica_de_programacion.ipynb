{
  "cells": [
    {
      "cell_type": "code",
      "execution_count": 1,
      "metadata": {
        "colab": {
          "base_uri": "https://localhost:8080/"
        },
        "id": "eDXexVs5QSoD",
        "outputId": "5c26fba6-6f1a-414e-cc50-7e7f03eed8a4"
      },
      "outputs": [
        {
          "name": "stdout",
          "output_type": "stream",
          "text": [
            "Hola, mundo!\n"
          ]
        }
      ],
      "source": [
        "texto = \"Hola, mundo!\"\n",
        "print(texto)"
      ]
    },
    {
      "cell_type": "code",
      "execution_count": 2,
      "metadata": {
        "colab": {
          "base_uri": "https://localhost:8080/"
        },
        "id": "N_wsUIawQiwj",
        "outputId": "066257ef-ee65-441d-9778-958a76250087"
      },
      "outputs": [
        {
          "name": "stdout",
          "output_type": "stream",
          "text": [
            "Hola, Juan!\n"
          ]
        }
      ],
      "source": [
        "saludo = \"Hola\"\n",
        "nombre = \"Juan\"\n",
        "mensaje = saludo + \", \" + nombre + \"!\"\n",
        "print(mensaje)"
      ]
    },
    {
      "cell_type": "code",
      "execution_count": 5,
      "metadata": {
        "colab": {
          "base_uri": "https://localhost:8080/"
        },
        "id": "9y769SadQ3Nf",
        "outputId": "ad362c6f-cf41-4422-cc58-67a678805b2e"
      },
      "outputs": [
        {
          "name": "stdout",
          "output_type": "stream",
          "text": [
            "Hola, Juan!\n"
          ]
        }
      ],
      "source": [
        "saludo = \"Hola\"\n",
        "nombre = \"Juan\"\n",
        "mensaje = \"{}, {}!\".format(saludo, nombre)\n",
        "print(mensaje)  # Imprime \"Hola, Juan!\""
      ]
    },
    {
      "cell_type": "code",
      "execution_count": 6,
      "metadata": {
        "colab": {
          "base_uri": "https://localhost:8080/"
        },
        "id": "7lYfQMJPQ8tB",
        "outputId": "a257df03-ae02-4c45-ecf9-c32fe1ac75cf"
      },
      "outputs": [
        {
          "name": "stdout",
          "output_type": "stream",
          "text": [
            "Hola, Juan!\n"
          ]
        }
      ],
      "source": [
        "saludo = \"Hola\"\n",
        "nombre = \"Juan\"\n",
        "mensaje = f\"{saludo}, {nombre}!\"\n",
        "print(mensaje)  # Imprime \"Hola, Juan!\""
      ]
    },
    {
      "cell_type": "code",
      "execution_count": 3,
      "metadata": {
        "colab": {
          "base_uri": "https://localhost:8080/"
        },
        "id": "4ayhKJZaQmok",
        "outputId": "fbf36ca2-47c1-403b-f236-a5d1e31ecc65"
      },
      "outputs": [
        {
          "name": "stdout",
          "output_type": "stream",
          "text": [
            "H\n",
            "a\n"
          ]
        }
      ],
      "source": [
        "texto = \"Hola\"\n",
        "print(texto[0])\n",
        "print(texto[-1])"
      ]
    },
    {
      "cell_type": "code",
      "execution_count": 4,
      "metadata": {
        "colab": {
          "base_uri": "https://localhost:8080/"
        },
        "id": "4-pCbo7lQsWV",
        "outputId": "aa2f83cc-6460-43c8-eff2-0360b1a9f203"
      },
      "outputs": [
        {
          "name": "stdout",
          "output_type": "stream",
          "text": [
            "Hola\n"
          ]
        }
      ],
      "source": [
        "texto = \"Hola, mundo!\"\n",
        "subcadena = texto[0:4]\n",
        "print(subcadena)"
      ]
    },
    {
      "cell_type": "code",
      "execution_count": null,
      "metadata": {
        "id": "z-vo0GtvRIaz"
      },
      "outputs": [],
      "source": [
        "texto = \"Hola mundo\"\n",
        "palabras = texto.split()\n",
        "print(palabras)\n",
        "\n",
        "frase = \"Hola,amigo,cómo,estás\"\n",
        "palabras = frase.split(',')\n",
        "print(palabras)"
      ]
    },
    {
      "cell_type": "code",
      "execution_count": 7,
      "metadata": {
        "colab": {
          "base_uri": "https://localhost:8080/"
        },
        "id": "UIy6WYpURI3k",
        "outputId": "71aeead9-84e4-4be7-a52d-b74d4189d155"
      },
      "outputs": [
        {
          "name": "stdout",
          "output_type": "stream",
          "text": [
            "Hola mundo\n"
          ]
        }
      ],
      "source": [
        "texto = \"   Hola mundo   \"\n",
        "texto_limpio = texto.strip()\n",
        "print(texto_limpio)"
      ]
    },
    {
      "cell_type": "code",
      "execution_count": 8,
      "metadata": {
        "colab": {
          "base_uri": "https://localhost:8080/"
        },
        "id": "OemEOilGRI6h",
        "outputId": "c17d673f-b89a-4fd4-ab90-85cb50809431"
      },
      "outputs": [
        {
          "name": "stdout",
          "output_type": "stream",
          "text": [
            "Hola amigo\n"
          ]
        }
      ],
      "source": [
        "texto = \"Hola mundo\"\n",
        "nuevo_texto = texto.replace(\"mundo\", \"amigo\")\n",
        "print(nuevo_texto)  # Imprime \"Hola amigo\""
      ]
    },
    {
      "cell_type": "code",
      "execution_count": 12,
      "metadata": {
        "colab": {
          "base_uri": "https://localhost:8080/"
        },
        "id": "rUsVGOACRI9Y",
        "outputId": "bd3e2cc2-d58d-40f6-96d0-62ee3a4cc962"
      },
      "outputs": [
        {
          "name": "stdout",
          "output_type": "stream",
          "text": [
            "True\n",
            "True\n"
          ]
        }
      ],
      "source": [
        "texto = \"Hola mundo\"\n",
        "print(texto.startswith(\"Hola\"))\n",
        "print(texto.endswith(\"mundo\"))\n"
      ]
    },
    {
      "cell_type": "code",
      "execution_count": 15,
      "metadata": {
        "colab": {
          "base_uri": "https://localhost:8080/"
        },
        "id": "xHmhtSnGRJAS",
        "outputId": "2b4286ff-cf90-478e-d282-e15c07a6599d"
      },
      "outputs": [
        {
          "name": "stdout",
          "output_type": "stream",
          "text": [
            "5\n",
            "-1\n",
            "5\n"
          ]
        }
      ],
      "source": [
        "texto = \"Hola mundo\"\n",
        "print(texto.find(\"mundo\"))\n",
        "print(texto.find(\"amigo\"))\n",
        "\n",
        "print(texto.index(\"mundo\"))\n",
        "#print(texto.index(\"amigo\"))"
      ]
    },
    {
      "cell_type": "code",
      "execution_count": 16,
      "metadata": {
        "colab": {
          "base_uri": "https://localhost:8080/"
        },
        "id": "WKUORzezRJDE",
        "outputId": "4f883da2-4034-487d-b9fc-36c970b39c5c"
      },
      "outputs": [
        {
          "name": "stdout",
          "output_type": "stream",
          "text": [
            "1\n"
          ]
        }
      ],
      "source": [
        "texto = \"Hola mundo, hola amigos\"\n",
        "print(texto.count(\"Hola\"))"
      ]
    },
    {
      "cell_type": "code",
      "execution_count": 17,
      "metadata": {
        "colab": {
          "base_uri": "https://localhost:8080/"
        },
        "id": "0DczaCGZSFJZ",
        "outputId": "e52529ee-6201-4386-a9c0-8569703e4922"
      },
      "outputs": [
        {
          "name": "stdout",
          "output_type": "stream",
          "text": [
            "HOLA MUNDO\n",
            "hola mundo\n"
          ]
        }
      ],
      "source": [
        "texto = \"Hola Mundo\"\n",
        "mayusculas = texto.upper()\n",
        "print(mayusculas)\n",
        "\n",
        "minusculas = texto.lower()\n",
        "print(minusculas)"
      ]
    },
    {
      "cell_type": "code",
      "execution_count": 18,
      "metadata": {
        "colab": {
          "base_uri": "https://localhost:8080/"
        },
        "id": "stnKn36cSFMD",
        "outputId": "64eee683-06f6-491f-ff28-b3d29bf28b10"
      },
      "outputs": [
        {
          "name": "stdout",
          "output_type": "stream",
          "text": [
            "Hola mundo\n",
            "Hola Mundo\n"
          ]
        }
      ],
      "source": [
        "texto = \"hola mundo\"\n",
        "capitalizado = texto.capitalize()\n",
        "print(capitalizado)\n",
        "\n",
        "titulo = texto.title()\n",
        "print(titulo)"
      ]
    },
    {
      "cell_type": "code",
      "execution_count": 19,
      "metadata": {
        "colab": {
          "base_uri": "https://localhost:8080/"
        },
        "id": "hWTm59jpSFPC",
        "outputId": "aee3eb4c-c293-49a3-d5f3-ef51943c644f"
      },
      "outputs": [
        {
          "name": "stdout",
          "output_type": "stream",
          "text": [
            "True\n",
            "True\n",
            "True\n",
            "False\n"
          ]
        }
      ],
      "source": [
        "texto1 = \"Hola\"\n",
        "texto2 = \"123\"\n",
        "texto3 = \" \"\n",
        "print(texto1.isalpha())\n",
        "print(texto2.isdigit())\n",
        "print(texto3.isspace())\n",
        "print(texto2.isalpha())"
      ]
    }
  ],
  "metadata": {
    "colab": {
      "provenance": []
    },
    "kernelspec": {
      "display_name": "Python 3",
      "name": "python3"
    },
    "language_info": {
      "name": "python"
    }
  },
  "nbformat": 4,
  "nbformat_minor": 0
}
