{
  "nbformat": 4,
  "nbformat_minor": 0,
  "metadata": {
    "colab": {
      "provenance": []
    },
    "kernelspec": {
      "name": "python3",
      "display_name": "Python 3"
    },
    "language_info": {
      "name": "python"
    }
  },
  "cells": [
    {
      "cell_type": "code",
      "execution_count": 1,
      "metadata": {
        "colab": {
          "base_uri": "https://localhost:8080/"
        },
        "id": "6T31dl8UrWL9",
        "outputId": "e9d7d99f-8f35-478a-fabd-d0005b4a36df"
      },
      "outputs": [
        {
          "output_type": "stream",
          "name": "stdout",
          "text": [
            "120\n"
          ]
        }
      ],
      "source": [
        "def factorial(n):\n",
        "    if n == 0:\n",
        "        return 1\n",
        "    else:\n",
        "        return n * factorial(n - 1)\n",
        "\n",
        "print(factorial(5))"
      ]
    },
    {
      "cell_type": "code",
      "source": [
        "def suma_naturales(n):\n",
        "    if n <= 0:\n",
        "        return 0\n",
        "    else:\n",
        "        return n + suma_naturales(n - 1)\n",
        "\n",
        "print(suma_naturales(5))"
      ],
      "metadata": {
        "colab": {
          "base_uri": "https://localhost:8080/"
        },
        "id": "_nZexrjktfoR",
        "outputId": "db5a12f7-76bf-4f79-dace-ebe3e50e89b8"
      },
      "execution_count": 2,
      "outputs": [
        {
          "output_type": "stream",
          "name": "stdout",
          "text": [
            "15\n"
          ]
        }
      ]
    },
    {
      "cell_type": "code",
      "source": [
        "def fibonacci(n):\n",
        "    if n <= 0:\n",
        "        return 0\n",
        "    elif n == 1:\n",
        "        return 1\n",
        "    else:\n",
        "        return fibonacci(n - 1) + fibonacci(n - 2)\n",
        "print(fibonacci(5))"
      ],
      "metadata": {
        "colab": {
          "base_uri": "https://localhost:8080/"
        },
        "id": "plJ18tBgthbP",
        "outputId": "a35e2428-479e-49db-f75e-bb26c5c81248"
      },
      "execution_count": 3,
      "outputs": [
        {
          "output_type": "stream",
          "name": "stdout",
          "text": [
            "5\n"
          ]
        }
      ]
    },
    {
      "cell_type": "code",
      "source": [
        "def torre_hanoi(n, origen, auxiliar, destino):\n",
        "    if n == 1:\n",
        "        print(f\"Mover disco 1 desde torre {origen} a torre {destino}\")\n",
        "        return\n",
        "    torre_hanoi(n-1, origen, destino, auxiliar)\n",
        "    print(f\"Mover disco {n} desde torre {origen} a torre {destino}\")\n",
        "    torre_hanoi(n-1, auxiliar, origen, destino)\n",
        "\n",
        "\n",
        "torre_hanoi(3, \"A\", \"B\", \"C\")"
      ],
      "metadata": {
        "colab": {
          "base_uri": "https://localhost:8080/"
        },
        "id": "zyAZpRbAtis3",
        "outputId": "1ebb5daa-b2d7-400a-a004-eae81e6786f6"
      },
      "execution_count": 4,
      "outputs": [
        {
          "output_type": "stream",
          "name": "stdout",
          "text": [
            "Mover disco 1 desde torre A a torre C\n",
            "Mover disco 2 desde torre A a torre B\n",
            "Mover disco 1 desde torre C a torre B\n",
            "Mover disco 3 desde torre A a torre C\n",
            "Mover disco 1 desde torre B a torre A\n",
            "Mover disco 2 desde torre B a torre C\n",
            "Mover disco 1 desde torre A a torre C\n"
          ]
        }
      ]
    },
    {
      "cell_type": "code",
      "source": [
        "def busqueda_binaria_recursiva(lista, elemento, inicio=0, fin=None):\n",
        "    if fin is None:\n",
        "        fin = len(lista) - 1\n",
        "    if inicio > fin:\n",
        "        return -1\n",
        "    medio = (inicio + fin) // 2\n",
        "    if lista[medio] == elemento:\n",
        "        return medio\n",
        "    elif lista[medio] < elemento:\n",
        "        return busqueda_binaria_recursiva(lista, elemento, medio + 1, fin)\n",
        "    else:\n",
        "        return busqueda_binaria_recursiva(lista, elemento, inicio, medio - 1)\n",
        "\n",
        "lista_ordenada = [1, 3, 5, 7, 9, 11, 13, 15]\n",
        "elemento_buscado = 7\n",
        "\n",
        "resultado = busqueda_binaria_recursiva(lista_ordenada, elemento_buscado)\n",
        "\n",
        "print(resultado)"
      ],
      "metadata": {
        "colab": {
          "base_uri": "https://localhost:8080/"
        },
        "id": "WRIlAfHKtlHE",
        "outputId": "b1cd79a5-4e8f-4353-d189-4e82285c6f0b"
      },
      "execution_count": 6,
      "outputs": [
        {
          "output_type": "stream",
          "name": "stdout",
          "text": [
            "3\n"
          ]
        }
      ]
    },
    {
      "cell_type": "code",
      "source": [
        "def permutaciones(lista):\n",
        "    if len(lista) == 0:\n",
        "        return [[]]\n",
        "    resultado = []\n",
        "    for i in range(len(lista)):\n",
        "        elemento_actual = lista[i]\n",
        "        elementos_restantes = lista[:i] + lista[i+1:]\n",
        "        for p in permutaciones(elementos_restantes):\n",
        "            resultado.append([elemento_actual] + p)\n",
        "    return resultado\n",
        "\n",
        "\n",
        "mi_lista = [1, 2, 3]\n",
        "\n",
        "resultado = permutaciones(mi_lista)\n",
        "print(resultado)"
      ],
      "metadata": {
        "colab": {
          "base_uri": "https://localhost:8080/"
        },
        "id": "ohGZ6u5Ktmu7",
        "outputId": "c59f1f8c-8735-4b61-ba4c-d9d8f3a80478"
      },
      "execution_count": 8,
      "outputs": [
        {
          "output_type": "stream",
          "name": "stdout",
          "text": [
            "[[1, 2, 3], [1, 3, 2], [2, 1, 3], [2, 3, 1], [3, 1, 2], [3, 2, 1]]\n"
          ]
        }
      ]
    }
  ]
}